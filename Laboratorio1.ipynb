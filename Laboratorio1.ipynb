{
  "nbformat": 4,
  "nbformat_minor": 0,
  "metadata": {
    "colab": {
      "provenance": [],
      "authorship_tag": "ABX9TyPqZSrtbcMYnwb+A8iXFkua",
      "include_colab_link": true
    },
    "kernelspec": {
      "name": "python3",
      "display_name": "Python 3"
    },
    "language_info": {
      "name": "python"
    }
  },
  "cells": [
    {
      "cell_type": "markdown",
      "metadata": {
        "id": "view-in-github",
        "colab_type": "text"
      },
      "source": [
        "<a href=\"https://colab.research.google.com/github/LeidyGal/Seminario-BigData/blob/main/Laboratorio1.ipynb\" target=\"_parent\"><img src=\"https://colab.research.google.com/assets/colab-badge.svg\" alt=\"Open In Colab\"/></a>"
      ]
    },
    {
      "cell_type": "code",
      "execution_count": null,
      "metadata": {
        "id": "Pvg-RWq8FON0"
      },
      "outputs": [],
      "source": []
    },
    {
      "cell_type": "markdown",
      "source": [
        "Integrantes:\n",
        "- Leidy Dayana Galindo Acuña - 95373\n",
        "- Diego Nicolas Garcia Vargas - 93144"
      ],
      "metadata": {
        "id": "Wiw_d6VUGjyF"
      }
    },
    {
      "cell_type": "code",
      "source": [],
      "metadata": {
        "id": "DJptuoJUGy-q"
      },
      "execution_count": null,
      "outputs": []
    }
  ]
}